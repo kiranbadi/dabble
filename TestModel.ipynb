{
 "cells": [
  {
   "cell_type": "code",
   "execution_count": 1,
   "metadata": {},
   "outputs": [],
   "source": [
    "import numpy as np\n",
    "import pandas as pd\n",
    "import pickle\n",
    "from sklearn import preprocessing"
   ]
  },
  {
   "cell_type": "code",
   "execution_count": 2,
   "metadata": {},
   "outputs": [],
   "source": [
    "# Load the model\n",
    "load_lr_model =pickle.load(open(\"sharekhan_model.pkl\", 'rb'))"
   ]
  },
  {
   "cell_type": "code",
   "execution_count": 3,
   "metadata": {},
   "outputs": [],
   "source": [
    "df = pd.read_csv('Test_Data.csv', encoding = \"UTF-8\",delimiter=',')"
   ]
  },
  {
   "cell_type": "code",
   "execution_count": 4,
   "metadata": {},
   "outputs": [
    {
     "data": {
      "text/html": [
       "<div>\n",
       "<style scoped>\n",
       "    .dataframe tbody tr th:only-of-type {\n",
       "        vertical-align: middle;\n",
       "    }\n",
       "\n",
       "    .dataframe tbody tr th {\n",
       "        vertical-align: top;\n",
       "    }\n",
       "\n",
       "    .dataframe thead th {\n",
       "        text-align: right;\n",
       "    }\n",
       "</style>\n",
       "<table border=\"1\" class=\"dataframe\">\n",
       "  <thead>\n",
       "    <tr style=\"text-align: right;\">\n",
       "      <th></th>\n",
       "      <th>Top1</th>\n",
       "      <th>Top2</th>\n",
       "      <th>Top3</th>\n",
       "      <th>Top4</th>\n",
       "      <th>Top5</th>\n",
       "      <th>Top6</th>\n",
       "      <th>Top7</th>\n",
       "      <th>Top8</th>\n",
       "      <th>Top9</th>\n",
       "      <th>Top10</th>\n",
       "      <th>...</th>\n",
       "      <th>Top16</th>\n",
       "      <th>Top17</th>\n",
       "      <th>Top18</th>\n",
       "      <th>Top19</th>\n",
       "      <th>Top20</th>\n",
       "      <th>Top21</th>\n",
       "      <th>Top22</th>\n",
       "      <th>Top23</th>\n",
       "      <th>Top24</th>\n",
       "      <th>Top25</th>\n",
       "    </tr>\n",
       "  </thead>\n",
       "  <tbody>\n",
       "    <tr>\n",
       "      <td>0</td>\n",
       "      <td>raine: video of police shooting ak-47 and snip...</td>\n",
       "      <td>0 year old voynich manuscript partially decode...</td>\n",
       "      <td>-year-old student dies from bullet wound after...</td>\n",
       "      <td>ystone pipeline struck down by nebraska judge</td>\n",
       "      <td>uce crumbles amid gunfire in ukraine that kill...</td>\n",
       "      <td>aq offers $17,200 reward for killing jihadists...</td>\n",
       "      <td>n cameras taken at gunpoint in venezuela-</td>\n",
       "      <td>e russian government evicted 2,000 people out ...</td>\n",
       "      <td>ld bumblebees worldwide are in trouble, likely...</td>\n",
       "      <td>w highly radioactive leak at japan's fukushima...</td>\n",
       "      <td>...</td>\n",
       "      <td>gerian mafia running wild in japan. brokering ...</td>\n",
       "      <td>od scam: tons of fake food, drinks seized in i...</td>\n",
       "      <td>ter highly likely bugging uncovered at the iri...</td>\n",
       "      <td>ina training for short, sharp war, says senior...</td>\n",
       "      <td>investigates illegal military equipment shipm...</td>\n",
       "      <td>ina to spend $330 billion on cleaning up pollu...</td>\n",
       "      <td>port: deadly drone strike in yemen failed to c...</td>\n",
       "      <td>german professor at a top swiss university has...</td>\n",
       "      <td>xico lawmakers introduce marijuana legalizatio...</td>\n",
       "      <td>geria's central bank governor lamido sanusi ha...</td>\n",
       "    </tr>\n",
       "  </tbody>\n",
       "</table>\n",
       "<p>1 rows × 25 columns</p>\n",
       "</div>"
      ],
      "text/plain": [
       "                                                Top1  \\\n",
       "0  raine: video of police shooting ak-47 and snip...   \n",
       "\n",
       "                                                Top2  \\\n",
       "0  0 year old voynich manuscript partially decode...   \n",
       "\n",
       "                                                Top3  \\\n",
       "0  -year-old student dies from bullet wound after...   \n",
       "\n",
       "                                            Top4  \\\n",
       "0  ystone pipeline struck down by nebraska judge   \n",
       "\n",
       "                                                Top5  \\\n",
       "0  uce crumbles amid gunfire in ukraine that kill...   \n",
       "\n",
       "                                                Top6  \\\n",
       "0  aq offers $17,200 reward for killing jihadists...   \n",
       "\n",
       "                                        Top7  \\\n",
       "0  n cameras taken at gunpoint in venezuela-   \n",
       "\n",
       "                                                Top8  \\\n",
       "0  e russian government evicted 2,000 people out ...   \n",
       "\n",
       "                                                Top9  \\\n",
       "0  ld bumblebees worldwide are in trouble, likely...   \n",
       "\n",
       "                                               Top10  ...  \\\n",
       "0  w highly radioactive leak at japan's fukushima...  ...   \n",
       "\n",
       "                                               Top16  \\\n",
       "0  gerian mafia running wild in japan. brokering ...   \n",
       "\n",
       "                                               Top17  \\\n",
       "0  od scam: tons of fake food, drinks seized in i...   \n",
       "\n",
       "                                               Top18  \\\n",
       "0  ter highly likely bugging uncovered at the iri...   \n",
       "\n",
       "                                               Top19  \\\n",
       "0  ina training for short, sharp war, says senior...   \n",
       "\n",
       "                                               Top20  \\\n",
       "0   investigates illegal military equipment shipm...   \n",
       "\n",
       "                                               Top21  \\\n",
       "0  ina to spend $330 billion on cleaning up pollu...   \n",
       "\n",
       "                                               Top22  \\\n",
       "0  port: deadly drone strike in yemen failed to c...   \n",
       "\n",
       "                                               Top23  \\\n",
       "0  german professor at a top swiss university has...   \n",
       "\n",
       "                                               Top24  \\\n",
       "0  xico lawmakers introduce marijuana legalizatio...   \n",
       "\n",
       "                                               Top25  \n",
       "0  geria's central bank governor lamido sanusi ha...  \n",
       "\n",
       "[1 rows x 25 columns]"
      ]
     },
     "execution_count": 4,
     "metadata": {},
     "output_type": "execute_result"
    }
   ],
   "source": [
    "cols_to_clean = ['Top1', 'Top2', 'Top3','Top4', 'Top5', 'Top6','Top7', 'Top8', 'Top9','Top10', 'Top11', 'Top12','Top13', 'Top14', 'Top15','Top16', 'Top17', 'Top18','Top19', 'Top20', 'Top21','Top22', 'Top23', 'Top24','Top25']\n",
    "# Removing punctuations and converting headlines to lower case\n",
    "data=df.iloc[:,2:28]\n",
    "# data.replace(\"[^a-zA-Z]\",\" \",regex=True, inplace=True)\n",
    "data = data.applymap(lambda s:s.lower() if type(s) == str else s)\n",
    "for col in cols_to_clean:\n",
    "       data[col] = data[col].str[2:]\n",
    "data.head(1)"
   ]
  },
  {
   "cell_type": "code",
   "execution_count": 5,
   "metadata": {},
   "outputs": [],
   "source": [
    "headlines = []\n",
    "for row in range(0,len(data.index)):\n",
    "    headlines.append(' '.join(str(x) for x in data.iloc[row,2:27]))"
   ]
  },
  {
   "cell_type": "code",
   "execution_count": 6,
   "metadata": {},
   "outputs": [
    {
     "data": {
      "text/plain": [
       "'otage captured of clearly marked medic being shot by police snipers in kiev. e people have won: ukraine president yanukovych calls early vote otage of the massacre in kiev, ukraine today from twitter (new images every 15 minutes, video of snipers) nezuela threatens to expel cnn over protest coverage  investigates illegal military equipment shipments from israel to iran: us homeland security says israeli arms dealers have been sending spare military jet parts to iran in breach of sanctions  to impose sanctions on ukrainian officials responsible for killings in kiev iv sees deadliest day in 3 months of protests: medic says at least 70 killed, 500 wounded ussia is prepared to fight a war over the ukrainian territory of crimea to protect the ethnic russian population and its military base there, a senior government official has told the ft.\" rainian parliament voted for ceasefire, the return of police to their bases and prohibited gun use. uth korea has announced it is developing offensive cyberwarfare capabilities to cripple north korea\\'s nuclear and missile facilities. rainian president viktor yanukovych\\'s allies start deserting him nezuela\\'s poor join protests as turmoil grips chvez\\'s revolution - \"this country can\\'t stay like this for much longer. if it\\'s not lack of food, it is the fear of being killed when you step out of your house to go to work\", jorge farias said. \"i would like to wake up without this fear,\" icky post: ukraine &amp; venezuela ile protests rage in ukraine and venezuela, they are also occurring in bosnia kraines parliament just threw president yanukovych under the bus. thats great news.\" byan rape victims of gadaffi forces to be recognized as war victims, receive compensation like that of wounded ex-soldiers  protester is safe from snipers or ak-47s in ukraine (graphic video) esident yanukovich announces ukraine to hold early presidential election nada joins eu in slapping sanctions on ukraine as death toll rises in kyiv raine president says deal has been reached to end days of bloodshed e ukrainian president has agreed to hold early elections, and to the formation of a national unity government, according to the polish prime minister, following talks earlier today. ugh austerity measures in greece leave nearly a million people with no access to healthcare, leading to soaring infant mortality, hiv infection and suicide hinese government officials have quietly become more sceptical about foreign banks\\' research reports and are avoiding senior economists at global banks, partly because of growing mutual distrust over the scale and seriousness of the country\\'s debt problems.\"'"
      ]
     },
     "execution_count": 6,
     "metadata": {},
     "output_type": "execute_result"
    }
   ],
   "source": [
    "headlines[1]"
   ]
  },
  {
   "cell_type": "code",
   "execution_count": 7,
   "metadata": {},
   "outputs": [
    {
     "name": "stdout",
     "output_type": "stream",
     "text": [
      "CountVectorizer(analyzer='word', binary=True, decode_error='strict',\n",
      "                dtype=<class 'numpy.int64'>, encoding='utf-8', input='content',\n",
      "                lowercase=True, max_df=1.0, max_features=27, min_df=1,\n",
      "                ngram_range=(1, 20), preprocessor=None, stop_words=None,\n",
      "                strip_accents='unicode', token_pattern='(?u)\\\\b\\\\w\\\\w+\\\\b',\n",
      "                tokenizer=None, vocabulary=None)\n"
     ]
    }
   ],
   "source": [
    "from sklearn.feature_extraction.text import CountVectorizer\n",
    "countvector=CountVectorizer(ngram_range=(1,20),max_features=27,binary=True,strip_accents='unicode')\n",
    "print(countvector);\n",
    "testdataset=countvector.fit_transform(headlines)"
   ]
  },
  {
   "cell_type": "code",
   "execution_count": 8,
   "metadata": {},
   "outputs": [],
   "source": [
    "# def convert(df):\n",
    "#     number = preprocessing.LabelEncoder()\n",
    "#     df['Key'] = number.fit_transform(df.Key)\n",
    "#     df['Date'] = number.fit_transform(df.Date)\n",
    "#     df['Top1'] = number.fit_transform(df.Top1)\n",
    "#     df['Top2'] = number.fit_transform(df.Top2)\n",
    "#     df['Top3'] = number.fit_transform(df.Top3)\n",
    "#     df['Top4'] = number.fit_transform(df.Top4)\n",
    "#     df['Top5'] = number.fit_transform(df.Top5)\n",
    "#     df['Top6'] = number.fit_transform(df.Top6)\n",
    "#     df['Top7'] = number.fit_transform(df.Top7)\n",
    "#     df['Top8'] = number.fit_transform(df.Top8)\n",
    "#     df['Top9'] = number.fit_transform(df.Top9)\n",
    "#     df['Top10'] = number.fit_transform(df.Top10)\n",
    "#     df['Top11'] = number.fit_transform(df.Top11)\n",
    "#     df['Top12'] = number.fit_transform(df.Top12)\n",
    "#     df['Top13'] = number.fit_transform(df.Top13)\n",
    "#     df['Top14'] = number.fit_transform(df.Top14)\n",
    "#     df['Top15'] = number.fit_transform(df.Top15)\n",
    "#     df['Top16'] = number.fit_transform(df.Top16)\n",
    "#     df['Top17'] = number.fit_transform(df.Top17)\n",
    "#     df['Top18'] = number.fit_transform(df.Top18)\n",
    "#     df['Top19'] = number.fit_transform(df.Top19)\n",
    "#     df['Top20'] = number.fit_transform(df.Top20)  \n",
    "#     df['Top21'] = number.fit_transform(df.Top21)\n",
    "#     df['Top22'] = number.fit_transform(df.Top22)\n",
    "#     df['Top23'] = number.fit_transform(df.Top23)\n",
    "#     df['Top24'] = number.fit_transform(df.Top24)\n",
    "#     df['Top25'] = number.fit_transform(df.Top25)  \n",
    "#     print(df.head(3));\n",
    "#     return df"
   ]
  },
  {
   "cell_type": "code",
   "execution_count": 9,
   "metadata": {},
   "outputs": [],
   "source": [
    " y_load_predit=load_lr_model.predict(testdataset)"
   ]
  },
  {
   "cell_type": "code",
   "execution_count": 10,
   "metadata": {},
   "outputs": [],
   "source": [
    "predictedValues = pd.DataFrame(y_load_predit, columns=['Predictions']).to_csv('actual_prediction_test.csv')"
   ]
  },
  {
   "cell_type": "code",
   "execution_count": 11,
   "metadata": {},
   "outputs": [],
   "source": [
    "y_load_predit_ratio = load_lr_model.predict_proba(testdataset)"
   ]
  },
  {
   "cell_type": "code",
   "execution_count": 12,
   "metadata": {},
   "outputs": [],
   "source": [
    "predictedRatio = pd.DataFrame(y_load_predit_ratio,columns=['Confidence(0)','Confidence(1)']).to_csv('predictedRatio_values.csv')"
   ]
  },
  {
   "cell_type": "code",
   "execution_count": null,
   "metadata": {},
   "outputs": [],
   "source": []
  }
 ],
 "metadata": {
  "kernelspec": {
   "display_name": "Python 3",
   "language": "python",
   "name": "python3"
  },
  "language_info": {
   "codemirror_mode": {
    "name": "ipython",
    "version": 3
   },
   "file_extension": ".py",
   "mimetype": "text/x-python",
   "name": "python",
   "nbconvert_exporter": "python",
   "pygments_lexer": "ipython3",
   "version": "3.7.4"
  }
 },
 "nbformat": 4,
 "nbformat_minor": 2
}
